{
 "cells": [
  {
   "cell_type": "code",
   "execution_count": 36,
   "metadata": {},
   "outputs": [],
   "source": [
    "from graphics import *\n",
    "import random\n",
    "import numpy as np\n",
    "import time"
   ]
  },
  {
   "cell_type": "markdown",
   "metadata": {},
   "source": [
    "### Create 5 * 5 grid world environment"
   ]
  },
  {
   "cell_type": "code",
   "execution_count": 37,
   "metadata": {},
   "outputs": [],
   "source": [
    "win = GraphWin(\"My window\", 600,600)\n",
    "win.setBackground(color_rgb(255,255,255))"
   ]
  },
  {
   "cell_type": "code",
   "execution_count": 38,
   "metadata": {},
   "outputs": [],
   "source": [
    "def line(x1,y1,x2,y2):\n",
    "    \"\"\"Create a line between point(x1,y1) and point(x2,y2)\"\"\"\n",
    "    \n",
    "    ln = Line(Point(x1,y1), Point(x2,y2))\n",
    "    ln.setOutline(color_rgb(0,0,0))\n",
    "    ln.setWidth(2)\n",
    "    \n",
    "    return ln"
   ]
  },
  {
   "cell_type": "markdown",
   "metadata": {},
   "source": [
    "### border line"
   ]
  },
  {
   "cell_type": "code",
   "execution_count": 39,
   "metadata": {},
   "outputs": [
    {
     "data": {
      "text/plain": [
       "Line(Point(50.0, 50.0), Point(50.0, 550.0))"
      ]
     },
     "execution_count": 39,
     "metadata": {},
     "output_type": "execute_result"
    }
   ],
   "source": [
    "border1 = line(50,50,550,50)\n",
    "border1.draw(win)\n",
    "\n",
    "border2 = line(550,50,550,550)\n",
    "border2.draw(win)\n",
    "\n",
    "border3 = line(50,550, 550,550)\n",
    "border3.draw(win)\n",
    "\n",
    "border4 = line(50,50,50,550)\n",
    "border4.draw(win)"
   ]
  },
  {
   "cell_type": "code",
   "execution_count": 40,
   "metadata": {},
   "outputs": [
    {
     "data": {
      "text/plain": [
       "Line(Point(50.0, 450.0), Point(550.0, 450.0))"
      ]
     },
     "execution_count": 40,
     "metadata": {},
     "output_type": "execute_result"
    }
   ],
   "source": [
    "# Horizontal line\n",
    "ln1 = line(50,150,550,150)\n",
    "ln1.draw(win)\n",
    "\n",
    "ln2 = line(50,250,550,250)\n",
    "ln2.draw(win)\n",
    "\n",
    "ln3 = line(50,350,550,350)\n",
    "ln3.draw(win)\n",
    "\n",
    "ln4 = line(50,450,550,450)\n",
    "ln4.draw(win)"
   ]
  },
  {
   "cell_type": "code",
   "execution_count": 41,
   "metadata": {},
   "outputs": [
    {
     "data": {
      "text/plain": [
       "Line(Point(450.0, 50.0), Point(450.0, 550.0))"
      ]
     },
     "execution_count": 41,
     "metadata": {},
     "output_type": "execute_result"
    }
   ],
   "source": [
    "#Vertical line\n",
    "lnv1 = line(150,50,150,550)\n",
    "lnv1.draw(win)\n",
    "\n",
    "lnv2 = line(250,50,250,550)\n",
    "lnv2.draw(win)\n",
    "\n",
    "lnv3 = line(350,50,350,550)\n",
    "lnv3.draw(win)\n",
    "\n",
    "lnv4 = line(450,50,450,550)\n",
    "lnv4.draw(win)"
   ]
  },
  {
   "cell_type": "code",
   "execution_count": 42,
   "metadata": {},
   "outputs": [
    {
     "data": {
      "text/plain": [
       "Rectangle(Point(150.0, 350.0), Point(250.0, 450.0))"
      ]
     },
     "execution_count": 42,
     "metadata": {},
     "output_type": "execute_result"
    }
   ],
   "source": [
    "# set goal, hole, obstacle\n",
    "\n",
    "rect_goal = Rectangle(Point(450,50), Point(550,150))\n",
    "rect_goal.setFill(color_rgb(0,255,0))\n",
    "rect_goal.draw(win)\n",
    "\n",
    "rect_hole = Rectangle(Point(450,150), Point(550,250))\n",
    "rect_hole.setFill(color_rgb(255,0,0))\n",
    "rect_hole.draw(win)\n",
    "\n",
    "rect_obs1 = Rectangle(Point(150,250), Point(250,350))\n",
    "rect_obs1.setFill(color_rgb(0,0,0))\n",
    "rect_obs1.draw(win)\n",
    "\n",
    "rect_obs2 = Rectangle(Point(150,350), Point(250,450))\n",
    "rect_obs2.setFill(color_rgb(0,0,0))\n",
    "rect_obs2.draw(win)"
   ]
  },
  {
   "cell_type": "markdown",
   "metadata": {},
   "source": [
    "### Create agent look like as circle"
   ]
  },
  {
   "cell_type": "code",
   "execution_count": 43,
   "metadata": {},
   "outputs": [
    {
     "data": {
      "text/plain": [
       "Circle(Point(100.0, 500.0), 25)"
      ]
     },
     "execution_count": 43,
     "metadata": {},
     "output_type": "execute_result"
    }
   ],
   "source": [
    "agent = Circle(Point(100,500),25)\n",
    "agent.setFill(color_rgb(0,0,255))\n",
    "agent.draw(win)"
   ]
  },
  {
   "cell_type": "markdown",
   "metadata": {},
   "source": [
    "### define action"
   ]
  },
  {
   "cell_type": "code",
   "execution_count": 44,
   "metadata": {},
   "outputs": [],
   "source": [
    "def up(agent):\n",
    "    val = agent.getCenter()\n",
    "    if (val.getY()) == 100 or (val.getY() == 500 and val.getX() == 200):\n",
    "        pass\n",
    "    else:\n",
    "        agent.move(0,-100)\n",
    "        \n",
    "def down(agent):\n",
    "    val = agent.getCenter()\n",
    "    if val.getY() == 500 or (val.getX() == 200 and val.getY() == 200):\n",
    "        pass\n",
    "    else:\n",
    "        agent.move(0, 100)\n",
    "        \n",
    "def right(agent):\n",
    "    val = agent.getCenter()\n",
    "    if val.getX() == 500 or (val.getX() == 100 and (val.getY() == 300 or val.getY() == 400)):\n",
    "        pass\n",
    "    else:\n",
    "        agent.move(100,0)\n",
    "        \n",
    "def left(agent):\n",
    "    val = agent.getCenter()\n",
    "    if val.getX() == 100 or (val.getX() == 300 or (val.getY() == 300 or val.getY() == 400)):\n",
    "        pass\n",
    "    else:\n",
    "        agent.move(-100,0)"
   ]
  },
  {
   "cell_type": "code",
   "execution_count": 45,
   "metadata": {},
   "outputs": [],
   "source": [
    "def action(agent, val):\n",
    "    if val == 0:\n",
    "        up(agent)\n",
    "    elif val == 1:\n",
    "        down(agent)\n",
    "    elif val == 2:\n",
    "        right(agent)\n",
    "    else:\n",
    "        left(agent)"
   ]
  },
  {
   "cell_type": "code",
   "execution_count": 46,
   "metadata": {},
   "outputs": [],
   "source": [
    "for i in range(200):\n",
    "    val = random.choice([0,1,2,3])\n",
    "    action(agent,val)"
   ]
  },
  {
   "cell_type": "code",
   "execution_count": 47,
   "metadata": {},
   "outputs": [],
   "source": [
    "reward = np.array([[-1,-1,-1,-1,-1],\n",
    "                   [-1,-20,-1,-1,-1],\n",
    "                   [-1,-20,-1,-1,-1],\n",
    "                   [-1,-1,-1,-1,-100],\n",
    "                   [-1,-1,-1,-1,100]])"
   ]
  },
  {
   "cell_type": "code",
   "execution_count": 48,
   "metadata": {},
   "outputs": [],
   "source": [
    "def rewards(agent):\n",
    "    val = agent.getCenter()\n",
    "    i = int(val.getX() / 100) - 1\n",
    "    j = int((500 - val.getY()) / 100)\n",
    "    \n",
    "    return reward[i, j]"
   ]
  },
  {
   "cell_type": "code",
   "execution_count": 49,
   "metadata": {},
   "outputs": [],
   "source": [
    "def observation(agent):\n",
    "    val = agent.getCenter()\n",
    "    i = int(val.getX() / 100) - 1\n",
    "    j = int((500 - val.getY()) / 100)\n",
    "    \n",
    "    return [i,j]"
   ]
  },
  {
   "cell_type": "code",
   "execution_count": 50,
   "metadata": {},
   "outputs": [],
   "source": [
    "def env_close():\n",
    "    win.close()"
   ]
  },
  {
   "cell_type": "code",
   "execution_count": 51,
   "metadata": {},
   "outputs": [],
   "source": [
    "def reset(agent):\n",
    "    agent.move(-400,400)"
   ]
  },
  {
   "cell_type": "code",
   "execution_count": 52,
   "metadata": {},
   "outputs": [],
   "source": [
    "def set_agent(agent, obs):\n",
    "    pos = agent.getCenter()\n",
    "    \n",
    "    pos = [pos.getX(), pos.getY()]\n",
    "    \n",
    "    refer_pos = [(obs[0]+1) * 100, (500 - (obs[1]*100))]\n",
    "    \n",
    "    agent.move(refer_pos[0]-pos[0], refer_pos[1]-pos[1])"
   ]
  },
  {
   "cell_type": "markdown",
   "metadata": {},
   "source": [
    "### Initialize the value function and policy"
   ]
  },
  {
   "cell_type": "code",
   "execution_count": 53,
   "metadata": {},
   "outputs": [],
   "source": [
    "old_value = np.array([[.0,.0,.0,.0,.0],\n",
    "                      [.0,.0,.0,.0,.0],\n",
    "                      [.0,.0,.0,.0,.0],\n",
    "                      [.0,.0,.0,.0,.0],\n",
    "                      [.0,.0,.0,.0,100.0]])\n",
    "\n",
    "new_value = np.array([[.0,.0,.0,.0,.0],\n",
    "                      [.0,.0,.0,.0,.0],\n",
    "                      [.0,.0,.0,.0,.0],\n",
    "                      [.0,.0,.0,.0,.0],\n",
    "                      [.0,.0,.0,.0,100.0]])"
   ]
  },
  {
   "cell_type": "code",
   "execution_count": 54,
   "metadata": {},
   "outputs": [],
   "source": [
    "#policy assign random policy\n",
    "policy = np.zeros([5,5])\n",
    "\n",
    "for row in range(5):\n",
    "    for col in range(5):\n",
    "        policy[row, col] = random.choice([0,1,2,3])"
   ]
  },
  {
   "cell_type": "code",
   "execution_count": 55,
   "metadata": {},
   "outputs": [],
   "source": [
    "# declare the variable\n",
    "policy_iteration = 100\n",
    "policy_evaluation = 1\n",
    "change_policy_after_every_episode = 50\n",
    "discount_factor = 0.9\n",
    "learning_rate = 0.01"
   ]
  },
  {
   "cell_type": "code",
   "execution_count": 58,
   "metadata": {},
   "outputs": [],
   "source": [
    "for j in range(policy_iteration):\n",
    "    #change policy after every 5 iteration and start value with zero\n",
    "    if j != 100:\n",
    "        #improve the policy depends upon maximum value of neighbour\n",
    "        acti = [0,1,2,3]\n",
    "        for row in range(5):\n",
    "            for col in range(5):\n",
    "                maxi = 0\n",
    "                maxi_action = 0\n",
    "                for act in acti:\n",
    "                    set_agent(agent,[row,col])\n",
    "                    action(agent,act)\n",
    "                    \n",
    "                    obser = observation(agent)\n",
    "                    #select action gives maximum value neighbour\n",
    "                    if old_value[obser[0],obser[1]] > maxi:\n",
    "                        maxi_action = act\n",
    "                        maxi = new_value[obser[0], obser[1]]\n",
    "                policy[row,col] = maxi_action\n",
    "    \n",
    "    for i in range(policy_evaluation):\n",
    "        for row in range(5):\n",
    "            for col in range(5):\n",
    "                set_agent(agent,[row,col])\n",
    "                Reward = rewards(agent)\n",
    "                #choose the action\n",
    "                act = policy[row, col]\n",
    "                \n",
    "                action(agent,act)\n",
    "                new_state = observation(agent)\n",
    "                \n",
    "                new_value[row, col] = Reward + (discount_factor *old_value[new_state[0],new_state[1]])\n",
    "        \n",
    "        new_value[4,4] = 100\n",
    "        old_value = new_value"
   ]
  },
  {
   "cell_type": "code",
   "execution_count": 61,
   "metadata": {},
   "outputs": [
    {
     "data": {
      "text/plain": [
       "array([[0., 0., 0., 2., 1.],\n",
       "       [2., 0., 0., 2., 1.],\n",
       "       [2., 0., 0., 2., 1.],\n",
       "       [0., 0., 0., 2., 2.],\n",
       "       [0., 0., 0., 0., 0.]])"
      ]
     },
     "execution_count": 61,
     "metadata": {},
     "output_type": "execute_result"
    }
   ],
   "source": [
    "policy"
   ]
  },
  {
   "cell_type": "code",
   "execution_count": 63,
   "metadata": {},
   "outputs": [
    {
     "data": {
      "text/plain": [
       "array([[ 37.3513931,  42.612659 ,  48.45851  ,  54.9539   ,  48.45851  ],\n",
       "       [ 42.612659 ,  29.45851  ,  54.9539   ,  62.171    ,  54.9539   ],\n",
       "       [ 48.45851  ,  35.9539   ,  62.171    ,  70.19     ,  62.171    ],\n",
       "       [ 54.9539   ,  62.171    ,  70.19     ,  79.1      , -10.       ],\n",
       "       [ 62.171    ,  70.19     ,  79.1      ,  89.       , 100.       ]])"
      ]
     },
     "execution_count": 63,
     "metadata": {},
     "output_type": "execute_result"
    }
   ],
   "source": [
    "new_value"
   ]
  },
  {
   "cell_type": "code",
   "execution_count": 64,
   "metadata": {},
   "outputs": [
    {
     "data": {
      "text/plain": [
       "array([[ 37.3513931,  42.612659 ,  48.45851  ,  54.9539   ,  48.45851  ],\n",
       "       [ 42.612659 ,  29.45851  ,  54.9539   ,  62.171    ,  54.9539   ],\n",
       "       [ 48.45851  ,  35.9539   ,  62.171    ,  70.19     ,  62.171    ],\n",
       "       [ 54.9539   ,  62.171    ,  70.19     ,  79.1      , -10.       ],\n",
       "       [ 62.171    ,  70.19     ,  79.1      ,  89.       , 100.       ]])"
      ]
     },
     "execution_count": 64,
     "metadata": {},
     "output_type": "execute_result"
    }
   ],
   "source": [
    "old_value"
   ]
  },
  {
   "cell_type": "code",
   "execution_count": null,
   "metadata": {},
   "outputs": [],
   "source": []
  },
  {
   "cell_type": "code",
   "execution_count": null,
   "metadata": {},
   "outputs": [],
   "source": []
  }
 ],
 "metadata": {
  "kernelspec": {
   "display_name": "Python 3",
   "language": "python",
   "name": "python3"
  },
  "language_info": {
   "codemirror_mode": {
    "name": "ipython",
    "version": 3
   },
   "file_extension": ".py",
   "mimetype": "text/x-python",
   "name": "python",
   "nbconvert_exporter": "python",
   "pygments_lexer": "ipython3",
   "version": "3.7.3"
  }
 },
 "nbformat": 4,
 "nbformat_minor": 2
}
